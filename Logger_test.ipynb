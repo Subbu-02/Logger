{
 "cells": [
  {
   "cell_type": "code",
   "execution_count": 1,
   "metadata": {},
   "outputs": [],
   "source": [
    "import psycopg2\n",
    "from psycopg2 import sql"
   ]
  },
  {
   "cell_type": "code",
   "execution_count": 2,
   "metadata": {},
   "outputs": [],
   "source": [
    "conn = psycopg2.connect(\n",
    "                dbname=\"Logger\",\n",
    "                user=\"postgres\",\n",
    "                password=\"Subbu@2002\",\n",
    "                host=\"localhost\",\n",
    "                port=\"5432\"\n",
    "            )\n",
    "cur = conn.cursor()"
   ]
  },
  {
   "cell_type": "code",
   "execution_count": 3,
   "metadata": {},
   "outputs": [
    {
     "data": {
      "text/plain": [
       "(<connection object at 0x7f7dc0810c10; dsn: 'user=postgres password=xxx dbname=Logger host=localhost port=5432', closed: 0>,\n",
       " <cursor object at 0x7f7dc0828a90; closed: 0>)"
      ]
     },
     "execution_count": 3,
     "metadata": {},
     "output_type": "execute_result"
    }
   ],
   "source": [
    "conn, cur"
   ]
  },
  {
   "cell_type": "code",
   "execution_count": 4,
   "metadata": {},
   "outputs": [],
   "source": [
    "insert = sql.SQL(\"INSERT INTO logs (Job_ID, Level, Message, Timestamp) VALUES ({}, {}, {}, {})\").format(\n",
    "    sql.Literal(\"pk_12121321\"),\n",
    "    sql.Literal(\"Warning\"),\n",
    "    sql.Literal(\"Test message HI\"),\n",
    "    sql.Literal(\"2021-08-01 00:00:00\")\n",
    ")\n",
    "cur.execute(insert)\n",
    "conn.commit()"
   ]
  },
  {
   "cell_type": "code",
   "execution_count": 1,
   "metadata": {},
   "outputs": [],
   "source": [
    "# Make sure to add the S3 filepath [s3://data-engg-prod/mlops/utilities/] in the job config\n",
    "# Import the logs_utils\n",
    "import Logger as log"
   ]
  },
  {
   "attachments": {},
   "cell_type": "markdown",
   "metadata": {},
   "source": [
    "# LOGS for Job Run\n",
    "The following methods use an Logger object created in the class CloudWatchLogsLogger"
   ]
  },
  {
   "cell_type": "code",
   "execution_count": 6,
   "metadata": {},
   "outputs": [],
   "source": [
    "# Creating the object for generating log events on Cloudwatch in the class CloudWatchLogger.\n",
    "logger = log.PostgresLogger(job_id = \"Logger_test\", details = \"Snowflake_Cost BIU\", job_type = \"Glue\")"
   ]
  },
  {
   "attachments": {},
   "cell_type": "markdown",
   "metadata": {},
   "source": [
    "## Transformation"
   ]
  },
  {
   "cell_type": "code",
   "execution_count": 9,
   "metadata": {},
   "outputs": [],
   "source": [
    "transformation = logger.start_transformation(name = \"Image_generated\", details = \"Generates image and its stats\", SQL_query = \"SELECT * WHERE DUMMY_QUERY1\")"
   ]
  },
  {
   "cell_type": "code",
   "execution_count": 10,
   "metadata": {},
   "outputs": [],
   "source": [
    "logger.end_transformation(transformation, info = {\"Dummy\" : 89})"
   ]
  },
  {
   "attachments": {},
   "cell_type": "markdown",
   "metadata": {},
   "source": [
    "## Ending the job"
   ]
  },
  {
   "cell_type": "code",
   "execution_count": 11,
   "metadata": {},
   "outputs": [],
   "source": [
    "# Ending the job. It maintains the job end time in the variable endtime and the total runtime in the variable totalruntime. The attribute is the logger object.\n",
    "logger.end(info = {\"Snowflake table it's was\":'PQPL_data'})"
   ]
  },
  {
   "cell_type": "code",
   "execution_count": 16,
   "metadata": {},
   "outputs": [],
   "source": [
    "import psycopg2\n",
    "from psycopg2 import sql\n",
    "import random\n",
    "from faker import Faker\n",
    "import json\n",
    "\n",
    "# Connect to your postgres DB\n",
    "conn = psycopg2.connect(\n",
    "    dbname=\"Logger\",\n",
    "    user=\"postgres\",\n",
    "    password=\"Subbu@2002\",\n",
    "    host=\"localhost\",\n",
    "    port=\"5432\"\n",
    ")\n",
    "cur = conn.cursor()\n",
    "\n",
    "# Create a Faker instance\n",
    "fake = Faker()\n",
    "\n",
    "# Define the possible values for some fields\n",
    "job_types = [\"AWS Sagemaker\", \"Glue\", \"Other\"]\n",
    "statuses = [\"Success\", \"Failure\"]\n",
    "\n",
    "# Generate and insert the random entries\n",
    "for _ in range(2500):\n",
    "    job_info = {\n",
    "        \"Job ID\": fake.uuid4(),\n",
    "        \"Details\": fake.sentence(),\n",
    "        \"Job Type\": random.choice(job_types),\n",
    "        \"Start Time\": str(fake.date_time_this_year()),\n",
    "        \"End Time\": str(fake.date_time_this_year()),\n",
    "        \"Total Runtime\": str(fake.time_delta()),\n",
    "        \"Info\": fake.sentence(),\n",
    "        \"Transformations\": [\n",
    "            {\n",
    "                \"Name\": fake.word(),\n",
    "                \"Details\": fake.sentence(),\n",
    "                \"SQL Query\": \"SELECT * FROM \" + fake.word(),\n",
    "                \"Start Time\": str(fake.date_time_this_year()),\n",
    "                \"End Time\": str(fake.date_time_this_year()),\n",
    "                \"Total Runtime\": str(fake.time_delta()),\n",
    "                \"Info\": {fake.word(): fake.word() for _ in range(random.randint(1, 5))}\n",
    "            } for _ in range(random.randint(1, 5))\n",
    "        ],\n",
    "        \"Status\": random.choice(statuses)\n",
    "    }\n",
    "\n",
    "    insert = sql.SQL(\"\"\"\n",
    "        INSERT INTO stats (job_id, details, job_type, start_time, end_time, total_runtime, info, transformations) \n",
    "        VALUES (%s, %s, %s, %s, %s, %s, %s, %s)\n",
    "    \"\"\")\n",
    "    data = (\n",
    "        job_info[\"Job ID\"],\n",
    "        job_info[\"Details\"],\n",
    "        job_info[\"Job Type\"],\n",
    "        job_info[\"Start Time\"],\n",
    "        job_info[\"End Time\"],\n",
    "        job_info[\"Total Runtime\"],\n",
    "        json.dumps(job_info[\"Info\"]),\n",
    "        json.dumps(job_info[\"Transformations\"]),\n",
    "    )\n",
    "    cur.execute(insert, data)\n",
    "\n",
    "# Commit the changes and close the connection\n",
    "conn.commit()\n",
    "cur.close()\n",
    "conn.close()"
   ]
  },
  {
   "cell_type": "code",
   "execution_count": null,
   "metadata": {},
   "outputs": [],
   "source": []
  }
 ],
 "metadata": {
  "kernelspec": {
   "display_name": "base",
   "language": "python",
   "name": "python3"
  },
  "language_info": {
   "codemirror_mode": {
    "name": "ipython",
    "version": 3
   },
   "file_extension": ".py",
   "mimetype": "text/x-python",
   "name": "python",
   "nbconvert_exporter": "python",
   "pygments_lexer": "ipython3",
   "version": "3.8.17"
  },
  "orig_nbformat": 4
 },
 "nbformat": 4,
 "nbformat_minor": 2
}
